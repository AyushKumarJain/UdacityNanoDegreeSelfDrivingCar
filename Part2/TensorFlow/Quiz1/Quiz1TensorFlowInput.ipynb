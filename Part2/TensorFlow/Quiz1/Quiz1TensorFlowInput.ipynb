{
 "cells": [
  {
   "cell_type": "code",
   "execution_count": 20,
   "metadata": {},
   "outputs": [],
   "source": [
    "# The Quiz uses tensor flow 1.3.0, but the tensor flow installed in my laptop is 2.1.0, that is why I changed the code to suit my PC\n",
    "import tensorflow as tf\n",
    "import os\n",
    "# from grader import get_result\n",
    "from tensorflow.python.framework.errors import InvalidArgumentError\n",
    "os.environ['TF_CPP_MIN_LOG_LEVEL'] = '2'\n",
    "tf.compat.v1.disable_eager_execution()\n",
    "\n",
    "import tensorflow as tf\n",
    "\n",
    "def run():\n",
    "    output = None\n",
    "#     x = tf.placeholder(tf.int32)\n",
    "    x = tf.compat.v1.placeholder(tf.int32)\n",
    "\n",
    "#     with tf.Session() as sess:\n",
    "    with tf.compat.v1.Session() as sess:\n",
    "        output = sess.run(x)\n",
    "\n",
    "    return output\n",
    "\n",
    "def get_result(student_func):\n",
    "    \n",
    "    \"\"\"\n",
    "    Run unit tests against <student_func>\n",
    "    \"\"\"\n",
    "\n",
    "    answer = 123\n",
    "    result = {\n",
    "        'correct': False,\n",
    "        'feedback': 'That\\'s the wrong answer.  It should print {}'.format(answer),\n",
    "        'comment': ''}\n",
    "\n",
    "    try:\n",
    "        output = student_func()\n",
    "        if not output:\n",
    "            result['feedback'] = 'No output found'\n",
    "        if not isinstance(output, np.ndarray):\n",
    "            result['feedback'] = 'Output is the wrong type.'\n",
    "            result['comment'] = 'The output should come from running the session.'\n",
    "        if output == answer:\n",
    "            result['correct'] = True\n",
    "            result['feedback'] = 'You got it right.  You figured out how to use feed_dict!'\n",
    "    except InvalidArgumentError as err:\n",
    "        if err.message.startswith('You must feed a value for placeholder tensor'):\n",
    "            result['feedback'] = 'The placeholder is not being set.'\n",
    "            result['comment'] = 'Try using the feed_dict.'\n",
    "    except Exception as err:\n",
    "        result['feedback'] = 'Something went wrong with your submission:'\n",
    "        result['comment'] = str(err)\n",
    "    \n",
    "    print(\"{} \\n{}\".format(result.get('feedback'), result.get('comment')))\n",
    "    "
   ]
  },
  {
   "cell_type": "code",
   "execution_count": 21,
   "metadata": {},
   "outputs": [
    {
     "name": "stdout",
     "output_type": "stream",
     "text": [
      "The placeholder is not being set. \n",
      "Try using the feed_dict.\n"
     ]
    }
   ],
   "source": [
    "### DON'T MODIFY ANYTHING BELOW ###\n",
    "### Be sure to run all cells above before running this cell ###\n",
    "# import grader\n",
    "\n",
    "try:\n",
    "#     grader.get_result(run)\n",
    "    get_result(run)\n",
    "except Exception as err:\n",
    "    print(str(err))"
   ]
  },
  {
   "cell_type": "code",
   "execution_count": 22,
   "metadata": {},
   "outputs": [
    {
     "data": {
      "text/plain": [
       "array(123, dtype=int32)"
      ]
     },
     "execution_count": 22,
     "metadata": {},
     "output_type": "execute_result"
    }
   ],
   "source": [
    "# Quiz Solution\n",
    "import tensorflow as tf\n",
    "\n",
    "def run():\n",
    "    output = None\n",
    "#     x = tf.placeholder(tf.int32)\n",
    "    x = tf.compat.v1.placeholder(tf.int32)\n",
    "\n",
    "#     with tf.Session() as sess:\n",
    "    with tf.compat.v1.Session() as sess:\n",
    "        output = sess.run(x, feed_dict={x: 123})\n",
    "\n",
    "    return output\n",
    "\n",
    "run()"
   ]
  },
  {
   "cell_type": "code",
   "execution_count": null,
   "metadata": {},
   "outputs": [],
   "source": []
  }
 ],
 "metadata": {
  "kernelspec": {
   "display_name": "Python 3",
   "language": "python",
   "name": "python3"
  },
  "language_info": {
   "codemirror_mode": {
    "name": "ipython",
    "version": 3
   },
   "file_extension": ".py",
   "mimetype": "text/x-python",
   "name": "python",
   "nbconvert_exporter": "python",
   "pygments_lexer": "ipython3",
   "version": "3.6.10"
  }
 },
 "nbformat": 4,
 "nbformat_minor": 4
}
