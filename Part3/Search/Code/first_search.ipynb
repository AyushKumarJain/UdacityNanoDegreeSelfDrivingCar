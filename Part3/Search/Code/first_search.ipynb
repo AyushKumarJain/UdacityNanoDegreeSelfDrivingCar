{
 "cells": [
  {
   "cell_type": "code",
   "execution_count": 18,
   "metadata": {},
   "outputs": [
    {
     "name": "stdout",
     "output_type": "stream",
     "text": [
      "[[0, 0, 0, 0, 0, 0], [0, 0, 0, 0, 0, 0], [0, 0, 0, 0, 0, 0], [0, 0, 0, 0, 0, 0], [0, 0, 0, 0, 0, 0], [0, 0, 0, 0, 0, 0]]\n",
      "[11, 4, 5]\n"
     ]
    }
   ],
   "source": [
    "# ----------\n",
    "# User Instructions:\n",
    "# \n",
    "# Define a function, search() that returns a list\n",
    "# in the form of [optimal path length, row, col]. For\n",
    "# the grid shown below, your function should output\n",
    "# [11, 4, 5].\n",
    "#\n",
    "# If there is no valid path from the start point\n",
    "# to the goal, your function should return the string\n",
    "# 'fail'\n",
    "# ----------\n",
    "\n",
    "# Grid format:\n",
    "#   0 = Navigable space\n",
    "#   1 = Occupied space\n",
    "\n",
    "\n",
    "grid = [[0, 0, 1, 0, 0, 0],\n",
    "        [0, 0, 1, 0, 0, 0],\n",
    "        [0, 0, 0, 0, 1, 0],\n",
    "        [0, 0, 1, 1, 1, 0],\n",
    "        [0, 0, 0, 0, 1, 0]]\n",
    "# print (len(grid))\n",
    "# print (grid[4][5])\n",
    "# init has coordinates of the start position\n",
    "init = [0, 0]\n",
    "# print (len(init))\n",
    "# goal has coordinates of the goal position\n",
    "goal = [len(grid)-1, len(grid[0])-1]\n",
    "# print (len(goal))\n",
    "# print(goal)\n",
    "cost = 1\n",
    "\n",
    "delta = [[-1, 0], # go up\n",
    "         [ 0,-1], # go left\n",
    "         [ 1, 0], # go down\n",
    "         [ 0, 1]] # go right\n",
    "\n",
    "delta_name = ['^', '<', 'v', '>']\n",
    "\n",
    "def search(grid,init,goal,cost):\n",
    "    # ----------------------------------------\n",
    "    # insert code here\n",
    "    # ----------------------------------------\n",
    "    closed = [[0 for row in range(len(grid[0]))] for col in range(len(grid[1]))]\n",
    "    print(closed)\n",
    "    closed[init[0]][init[1]] = 1\n",
    "    x = init[0]\n",
    "    y = init[1]\n",
    "    g = 0\n",
    "    \n",
    "    # initial list\n",
    "    open = [[g, x, y]]\n",
    "    # print (len(open))\n",
    "    found = False # flag that is set when search complete\n",
    "    resign = False # flag set if we can't find expand\n",
    "    \n",
    "    #print 'initial open list:'\n",
    "    #for i in range(len(open)):\n",
    "        #print '', open[i]\n",
    "    #print '----' \n",
    "    #while loop to check if the problem is solved or is unsolvable\n",
    "    while found is False and resign is False:\n",
    "        # check if we still have elements on the open list\n",
    "        if len(open) == 0:\n",
    "            resign = True\n",
    "            print('fail')\n",
    "            #print '###### Search terminated without success'\n",
    "            \n",
    "        else:\n",
    "            # remove node from list\n",
    "            # sort function sorts elements in increasing order\n",
    "            open.sort()\n",
    "            # print (open.sort())\n",
    "            open.reverse()\n",
    "            # print (open.reverse())\n",
    "            # Here we pop the element with the smallest gvalue\n",
    "            # We kept gvalue first intentionally to use this pop function\n",
    "            next = open.pop()\n",
    "            # print 'take list item'\n",
    "            # print next\n",
    "            x = next[1]\n",
    "            y = next[2]\n",
    "            g = next[0]\n",
    "            \n",
    "            # check if we are done\n",
    "            \n",
    "            if x == goal[0] and y == goal[1]:\n",
    "                found = True\n",
    "                print(next)\n",
    "                # print '###### Search successful'\n",
    "            else: \n",
    "                # expand winning element and add to new open list\n",
    "                # delta is an array of 4 different actions\n",
    "                for i in range(len(delta)):\n",
    "                    x2 = x + delta[i][0]\n",
    "                    y2 = y + delta[i][1]\n",
    "                    if x2 >= 0 and x2 < len(grid) and y2 >= 0 and y2 < len(grid[0]):\n",
    "                        # Check if the grid cell is explored and also navigable\n",
    "                        if closed[x2][y2] == 0 and grid[x2][y2] == 0:\n",
    "                            g2 = g + cost\n",
    "                            open.append([g2,x2,y2])\n",
    "                            # print 'append list item'\n",
    "                            # print [g2, x2, y2]\n",
    "                            closed[x2][y2] = 1\n",
    "                \n",
    "                # print 'new open list:'\n",
    "                # for i in range(len(open)):\n",
    "                    # print '  ', open[i]\n",
    "                # print '----'\n",
    "            \n",
    "    \n",
    "#     return path\n",
    "\n",
    "search(grid,init,goal,cost)"
   ]
  },
  {
   "cell_type": "code",
   "execution_count": 16,
   "metadata": {},
   "outputs": [
    {
     "name": "stdout",
     "output_type": "stream",
     "text": [
      "[2, 1, 1]\n",
      "search did not return anything for grid: [[0, 1], [0, 0]]\n"
     ]
    }
   ],
   "source": [
    "##### Do Not Modify ######\n",
    "\n",
    "import grader\n",
    "\n",
    "try:\n",
    "    response = grader.run_grader(search)\n",
    "    print(response)    \n",
    "    \n",
    "except Exception as err:\n",
    "    print(str(err))"
   ]
  },
  {
   "cell_type": "code",
   "execution_count": 17,
   "metadata": {},
   "outputs": [
    {
     "name": "stderr",
     "output_type": "stream",
     "text": [
      "/home/jainayushkumar0/Packages/anaconda3/lib/python3.7/site-packages/IPython/core/display.py:701: UserWarning: Consider using IPython.display.IFrame instead\n",
      "  warnings.warn(\"Consider using IPython.display.IFrame instead\")\n"
     ]
    },
    {
     "data": {
      "text/html": [
       "<iframe width=\"560\" height=\"315\" src=\"https://www.youtube.com/embed/cl8Kdkr4Gbg\" frameborder=\"0\" allow=\"accelerometer; autoplay; encrypted-media; gyroscope; picture-in-picture\" allowfullscreen></iframe>"
      ],
      "text/plain": [
       "<IPython.core.display.HTML object>"
      ]
     },
     "execution_count": 17,
     "metadata": {},
     "output_type": "execute_result"
    }
   ],
   "source": [
    "##### SOLUTION: Run this cell to watch the solution video ######\n",
    "from IPython.display import HTML\n",
    "HTML('<iframe width=\"560\" height=\"315\" src=\"https://www.youtube.com/embed/cl8Kdkr4Gbg\" frameborder=\"0\" allow=\"accelerometer; autoplay; encrypted-media; gyroscope; picture-in-picture\" allowfullscreen></iframe>')"
   ]
  },
  {
   "cell_type": "code",
   "execution_count": null,
   "metadata": {},
   "outputs": [],
   "source": []
  }
 ],
 "metadata": {
  "kernelspec": {
   "display_name": "Python 3",
   "language": "python",
   "name": "python3"
  },
  "language_info": {
   "codemirror_mode": {
    "name": "ipython",
    "version": 3
   },
   "file_extension": ".py",
   "mimetype": "text/x-python",
   "name": "python",
   "nbconvert_exporter": "python",
   "pygments_lexer": "ipython3",
   "version": "3.7.7"
  }
 },
 "nbformat": 4,
 "nbformat_minor": 2
}
